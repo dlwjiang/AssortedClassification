{
 "metadata": {
  "name": "airQuality"
 },
 "nbformat": 3,
 "nbformat_minor": 0,
 "worksheets": [
  {
   "cells": [
    {
     "cell_type": "code",
     "collapsed": true,
     "input": [
      "from sklearn.ensemble import RandomForestClassifier\n",
      "import numpy as np\n",
      "from numpy import genfromtxt, savetxt\n",
      "\n",
      "def open_data(filename):\n",
      "    \n",
      "    #create the training & test sets, skipping the header row with [1:]\n",
      "    dataset = genfromtxt(open(filename,'r'), delimiter=',', dtype='a40')    \n",
      "    \n",
      "    return dataset\n",
      "    \n",
      "    \n",
      "    '''\n",
      "    #create and train the random forest\n",
      "    #multi-core CPUs can use: rf = RandomForestClassifier(n_estimators=100, n_jobs=2)\n",
      "    \n",
      "    rf = RandomForestClassifier(n_estimators=100)\n",
      "    rf.fit(train, target)\n",
      "    \n",
      "    \n",
      "    predicted_probs = [x[1] for x in rf.predict_proba(train)]\n",
      "    \n",
      "    '''\n",
      "\n",
      "    #savetxt('Data/submission.csv', predicted_probs, delimiter=',', fmt='%f')\n"
     ],
     "language": "python",
     "metadata": {},
     "outputs": [],
     "prompt_number": 1
    },
    {
     "cell_type": "code",
     "collapsed": false,
     "input": [
      "import numpy as np\n",
      "import matplotlib.pyplot as plt\n",
      "\n",
      "x = dataT[0][0:10]\n",
      "y = dataT[56][0:10]\n",
      "\n",
      "plt.plot(x, y)\n",
      "plt.show()"
     ],
     "language": "python",
     "metadata": {},
     "outputs": []
    },
    {
     "cell_type": "code",
     "collapsed": false,
     "input": [
      "'''\n",
      "if string1 ends with string2, return True. e.g. applepie ---- pie\n",
      "'''\n",
      "def lastEquals(string1, string2):\n",
      "    \n",
      "    if (len(string2) <= len(string1)):  \n",
      "        if (string1[len(string1)-len(string2):] == string2):\n",
      "            return True\n",
      "        else:\n",
      "            return False\n",
      "    else:\n",
      "        return False\n",
      "        "
     ],
     "language": "python",
     "metadata": {},
     "outputs": [],
     "prompt_number": 8
    },
    {
     "cell_type": "code",
     "collapsed": false,
     "input": [
      "locations = [1,32,50,57,64,1003,1018,1601,2001,4002,4101,6004,6006,8003]\n",
      "locationsChar = [str(x) for x in locations]"
     ],
     "language": "python",
     "metadata": {},
     "outputs": []
    },
    {
     "cell_type": "code",
     "collapsed": false,
     "input": [
      "'''BIGGEST TIME SUCK\n",
      "\n",
      "\n",
      "'''\n",
      "\n",
      "data = open_data('Data/TrainingData.csv')\n",
      "dataT = data.T"
     ],
     "language": "python",
     "metadata": {},
     "outputs": [],
     "prompt_number": 5
    },
    {
     "cell_type": "code",
     "collapsed": false,
     "input": [
      "'''\n",
      "ONLY READS ONE ROW OF EXCEL FILE\n",
      "wrong \n",
      "wrong \n",
      "wrong\n",
      "'''\n",
      "data = open_data('Data/TrainingDataZeros.csv')\n",
      "dataT = data.T"
     ],
     "language": "python",
     "metadata": {},
     "outputs": []
    },
    {
     "cell_type": "code",
     "collapsed": false,
     "input": [
      "print data"
     ],
     "language": "python",
     "metadata": {},
     "outputs": []
    },
    {
     "cell_type": "code",
     "collapsed": false,
     "input": [
      "''' list of targets for each location---------\n",
      "loc   pollutants         code\n",
      "---   ----------         -------\n",
      "1:    3,4,11             pizza  \n",
      "32:   11                 alphabet \n",
      "50:   3,4,11             snake  \n",
      "57:   1,2,3,4,7,8,15     pie\n",
      "64:   11                 blaze \n",
      "1003: 11                 bermuda \n",
      "1018: 4                  penguin\n",
      "1601: 3,4,11             echo \n",
      "2001: 4                  seashell\n",
      "4002: 3,4,8,9,10,11,14   blast\n",
      "4101: 4                  matrix\n",
      "6004: 8                  keystone\n",
      "6006: 3,4,5              wire\n",
      "8003: 4,8,9,10,11,14     flash\n",
      "'''\n",
      "\n",
      "'''\n",
      "PENGUIN\n",
      "will predict level of pollutant 4 for area 1018\n",
      "target values correspond to column 80 in data\n",
      "'''\n",
      "penguin = dataT[80]\n",
      "print penguin  #name of column\n",
      "targetPenguin = penguin[1:] #list of target values\n",
      "trainPenguin = [] \n",
      "trainVarPositions = []\n",
      "\n",
      "'''find training values corresponding to area 1018'''\n",
      "\n",
      "for i in range(55): #55 is where target data begins\n",
      "   \n",
      "    L = len(data[0][i])\n",
      "    variable = str(data[0][i][1:L-1]) #[1:L-1] gets rid of the \" \" surround each string\n",
      "    \n",
      "    if (lastEquals(variable,'1018')):\n",
      "        trainVarPositions.append(i)\n",
      "        #results: columns 8 and 10 contribute to area 1018\n",
      "\n",
      " \n",
      "       \n",
      "    \n",
      "'''create training set'''        \n",
      "for i in range(len(dataT[0])-1):  #37822 rows\n",
      "    temp = []\n",
      "    #time info\n",
      "    temp.append(dataT[0][i+1])\n",
      "    temp.append(dataT[1][i+1])\n",
      "    temp.append(dataT[2][i+1])\n",
      "    temp.append(dataT[3][i+1])\n",
      "    temp.append(dataT[5][i+1])\n",
      "    #specific data\n",
      "    temp.append(dataT[8][i+1])\n",
      "    temp.append(dataT[10][i+1])\n",
      "    \n",
      "    trainPenguin.append(temp)\n",
      "\n",
      "'''target and training sets now filled'''\n",
      "print np.array(trainPenguin[0])\n",
      "print np.array(targetPenguin[0])"
     ],
     "language": "python",
     "metadata": {},
     "outputs": []
    },
    {
     "cell_type": "code",
     "collapsed": false,
     "input": [
      "'''\n",
      "check for NA\n",
      "'''\n",
      "def containsBadData(array):\n",
      "    \n",
      "    for i in range(len(array)):\n",
      "        if (array[i] == 'NA'):\n",
      "            return True\n",
      "        \n",
      "    return False   \n",
      "           "
     ],
     "language": "python",
     "metadata": {},
     "outputs": [],
     "prompt_number": 6
    },
    {
     "cell_type": "code",
     "collapsed": true,
     "input": [
      "'''\n",
      "PENGUIN\n",
      "remove arrays with bad data\n",
      "'''\n",
      "temp1 = []\n",
      "temp2 = []\n",
      "xes = []\n",
      "for x in range(len(trainPenguin)):\n",
      "    if (  (not(containsBadData(trainPenguin[x]))) and (targetPenguin[x] != 'NA')  ):\n",
      "        temp1.append(trainPenguin[x])\n",
      "        temp2.append(targetPenguin[x])\n",
      "        xes.append(x)\n",
      "\n",
      "print len(temp1)\n",
      "print len(temp2)\n",
      "\n",
      "trainPenguin = temp1\n",
      "targetPenguin = temp2\n",
      "\n",
      "print trainPenguin\n",
      "print targetPenguin\n"
     ],
     "language": "python",
     "metadata": {},
     "outputs": []
    },
    {
     "cell_type": "code",
     "collapsed": true,
     "input": [
      "'''\n",
      "Random Forest: PENGUIN\n",
      "\n",
      "ALSO A TIME SUCK\n",
      "'''\n",
      "\n",
      "rf = RandomForestClassifier(n_estimators=100)\n",
      "rf.fit(trainPenguin, targetPenguin)"
     ],
     "language": "python",
     "metadata": {},
     "outputs": []
    },
    {
     "cell_type": "code",
     "collapsed": false,
     "input": [
      "print 'hi'\n",
      "stuff = rf.score(trainPenguin,targetPenguin)\n",
      "print 'bye'\n",
      "\n",
      "savetxt('data/output.txt', stuff, delimiter=',', fmt='%f')"
     ],
     "language": "python",
     "metadata": {},
     "outputs": []
    },
    {
     "cell_type": "code",
     "collapsed": false,
     "input": [
      "'''\n",
      "get testing data\n",
      "'''\n",
      "'''\n",
      "tbd\n"
     ],
     "language": "python",
     "metadata": {},
     "outputs": []
    },
    {
     "cell_type": "code",
     "collapsed": true,
     "input": [
      "'''\n",
      "PIE\n",
      "will predict level of pollutant 1,2,3,4,7,8,15 for area 57\n",
      "target values correspond to column 57,70,71,74,80,89,90 in data (not in that order)\n",
      "'''\n",
      "\n",
      "columnNums = [57,70,71,74,80,89,90]\n",
      "pie = []\n",
      "for i in range(len(columnNums)):\n",
      "    pie.append(dataT[columnNums[i]-1][1:])\n",
      "                    \n",
      "targetPie = np.array(pie)\n",
      "trainPie = []\n",
      "varPositionsPie = []\n",
      "\n",
      "for i in range(55): #55 is where target data begins\n",
      "   \n",
      "    L = len(data[0][i])\n",
      "    variable = str(data[0][i][1:L-1]) #[1:L-1] gets rid of the \" \" surround each string\n",
      "    \n",
      "    if (lastEquals(variable,'57')):\n",
      "        varPositionsPie.append(i)\n",
      "\n",
      "print varPositionsPie #15,24,33,42,51\n",
      "        "
     ],
     "language": "python",
     "metadata": {},
     "outputs": [
      {
       "output_type": "stream",
       "stream": "stdout",
       "text": [
        "[15, 24, 33, 42, 51]\n"
       ]
      }
     ],
     "prompt_number": 19
    },
    {
     "cell_type": "code",
     "collapsed": false,
     "input": [
      "for i in range(len(dataT[0])-1):  #37822 rows\n",
      "    temp = []\n",
      "    \n",
      "    #time info\n",
      "    temp.append(dataT[0][i+1])\n",
      "    temp.append(dataT[1][i+1])\n",
      "    temp.append(dataT[2][i+1])\n",
      "    temp.append(dataT[3][i+1])\n",
      "    temp.append(dataT[5][i+1])\n",
      "    \n",
      "    #specific info\n",
      "    temp.append(dataT[15][i+1])\n",
      "    temp.append(dataT[24][i+1])\n",
      "    temp.append(dataT[33][i+1])\n",
      "    temp.append(dataT[42][i+1])\n",
      "    temp.append(dataT[51][i+1])\n",
      "    \n",
      "    trainPie.append(temp)\n",
      "\n",
      "print trainPie[30]\n",
      "for i in range(len(targetPie)):\n",
      "    print targetPie[i][30]"
     ],
     "language": "python",
     "metadata": {},
     "outputs": [
      {
       "output_type": "stream",
       "stream": "stdout",
       "text": [
        "['31', '1', '31', '10', '3', '17.6', '5.7', '748', '750', '745']\n",
        "0.864949217793207\n",
        "1.48873306087699\n",
        "0.354726190622558\n",
        "NA\n",
        "0.837403251850068\n",
        "1.41812938543468\n",
        "0.904125637199855\n"
       ]
      }
     ],
     "prompt_number": 30
    },
    {
     "cell_type": "code",
     "collapsed": false,
     "input": [],
     "language": "python",
     "metadata": {},
     "outputs": []
    }
   ],
   "metadata": {}
  }
 ]
}