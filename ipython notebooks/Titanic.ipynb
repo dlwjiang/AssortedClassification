{
 "metadata": {
  "name": "Titanic"
 },
 "nbformat": 3,
 "nbformat_minor": 0,
 "worksheets": [
  {
   "cells": [
    {
     "cell_type": "code",
     "collapsed": false,
     "input": [
      "from sklearn.linear_model import LogisticRegression\n",
      "from Digit_Display import open_data\n",
      "import numpy as np\n",
      "from sklearn import cross_validation"
     ],
     "language": "python",
     "metadata": {},
     "outputs": [],
     "prompt_number": 1
    },
    {
     "cell_type": "code",
     "collapsed": false,
     "input": [
      "def Predict_Survivors():\n",
      "    \n",
      "    data = open_data('Data/Titanic/train.csv')\n",
      "    \n",
      "    target = data[::,0].astype(np.float)\n",
      "    features = [row[1::] for row in data] \n",
      "    \n",
      "    #filter out class and sex and age as main features\n",
      "    # [1,2,3 are first/second/third class]  [0 is male, 1 is female] [0 is child, 1 is adult]\n",
      "    filtered_features = strip_array(features)\n",
      "     \n",
      "    log_reg = LogisticRegression().fit(filtered_features,target)\n",
      "      \n",
      "    print log_reg.predict_proba([3,0]) #probability of third class male adult?\n",
      "    print log_reg.predict_proba([1,1]) #probability of first class female adult?\n",
      "    \n",
      "    data_test     = open_data('Data/Titanic/test.csv')\n",
      "    data_test_array = [row[0::] for row in data_test]\n",
      "    \n",
      "    data_test_array_stripped = strip_array(data_test_array)\n",
      "    predicted = log_reg.predict(data_test_array_stripped)\n",
      "    \n",
      "    cv = cross_validation.cross_val_score(log_reg, filtered_features, target, cv = 3, n_jobs = 2)\n",
      "    print cv\n",
      "    \n",
      "    np.savetxt('Data/Titanic/submission_titanic_class_gender_age.csv', predicted, delimiter=',', fmt='%d')\n",
      "    "
     ],
     "language": "python",
     "metadata": {},
     "outputs": [],
     "prompt_number": 3
    },
    {
     "cell_type": "code",
     "collapsed": false,
     "input": [
      "def strip_array(array):\n",
      "    \"\"\"\n",
      "    -Takes the input feature array and strips it leaving only the relevant features.\n",
      "    -Converts information into integers setting up dummy variables when relevant\n",
      "    -Format will be [ Survived? , Passenger class , Sex , Age ]\n",
      "    ---Returns the data as an array\n",
      "    \"\"\"\n",
      "    #setup return value\n",
      "    filtered_features =   [[float(x[0]),x[2]]  for x in array]\n",
      "    \n",
      "    #0 for male, 1 for female    \n",
      "    for x in filtered_features:\n",
      "        if (x[1] == 'male') :\n",
      "            x[1] = 0\n",
      "        else:\n",
      "            x[1] = 1\n",
      "    '''\n",
      "    #fill in empty ages as 0\n",
      "    #assuming newborns don't have proper records, could also assign age 1000 or randomly allocate or remove from dataset\n",
      "    for x in filtered_features:\n",
      "        if (x[2] == ''):                                  \n",
      "            x[2] = 0\n",
      "    \n",
      "    #convert everything to a float\n",
      "    for x in filtered_features:\n",
      "        x[2] = float(x[2])\n",
      "    \n",
      "    #classify as 1 for adult(>=18), else 0\n",
      "    for x in filtered_features:\n",
      "        if (x[2] >= 18) :\n",
      "            x[2] = 1\n",
      "        else:\n",
      "            x[2] = 0\n",
      "    '''\n",
      "    \n",
      "    filtered_features = np.array(filtered_features)\n",
      "    return filtered_features"
     ],
     "language": "python",
     "metadata": {},
     "outputs": [],
     "prompt_number": 2
    },
    {
     "cell_type": "code",
     "collapsed": false,
     "input": [
      "Predict_Survivors()"
     ],
     "language": "python",
     "metadata": {},
     "outputs": [
      {
       "output_type": "stream",
       "stream": "stdout",
       "text": [
        "[[ 0.89748952  0.10251048]]\n",
        "[[ 0.09683983  0.90316017]]\n"
       ]
      },
      {
       "output_type": "stream",
       "stream": "stdout",
       "text": [
        "[ 0.77777778  0.8013468   0.78114478]\n"
       ]
      }
     ],
     "prompt_number": 4
    },
    {
     "cell_type": "code",
     "collapsed": false,
     "input": [
      "'''\n",
      "Submission under my account\n",
      "David Jiang\t 0.76555\t4\t Mon, 11 Feb 2013 02:36:28 (-7.1d)\n",
      "        Place 1537\n",
      "\n",
      "No appreciable difference then classifying on text alone.\n",
      "Personally believe there wasn't enough data.\n",
      "Perhaps if it was a bigger boat with more people...\n",
      "'''"
     ],
     "language": "python",
     "metadata": {},
     "outputs": []
    }
   ],
   "metadata": {}
  }
 ]
}