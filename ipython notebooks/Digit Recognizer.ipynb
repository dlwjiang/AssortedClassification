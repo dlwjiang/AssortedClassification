{
 "metadata": {
  "name": "Digit Recognizer"
 },
 "nbformat": 3,
 "nbformat_minor": 0,
 "worksheets": [
  {
   "cells": [
    {
     "cell_type": "code",
     "collapsed": false,
     "input": [
      "import csv as csv \n",
      "import numpy as np\n",
      "import matplotlib.pyplot as plt\n",
      "import Image\n",
      "import pylab as pl\n",
      "from sklearn.metrics import roc_curve, auc\n",
      "from sklearn import neighbors\n",
      "from sklearn import cross_validation\n",
      "from sklearn.metrics import confusion_matrix\n",
      "from numpy import savetxt\n",
      "import scipy as sp\n"
     ],
     "language": "python",
     "metadata": {},
     "outputs": [],
     "prompt_number": 1
    },
    {
     "cell_type": "code",
     "collapsed": false,
     "input": [
      "def get_target_features(filename):\n",
      "    #Open up the csv file \n",
      "    csv_file_object = csv.reader(open(filename, 'rb')) \n",
      "    header = csv_file_object.next() #skip header\n",
      "                                    \n",
      "    data=[]                         \n",
      "    for row in csv_file_object:      \n",
      "        data.append(row)   \n",
      "                  \n",
      "    data = np.array(data) \n",
      "        \n",
      "    target = data[::,0] #first column, list of the numbers\n",
      "    features = [row[1::] for row in data] #list of the pixel values corresponding to numbers in 'target'   \n",
      "    \n",
      "    return target,features"
     ],
     "language": "python",
     "metadata": {},
     "outputs": [],
     "prompt_number": 2
    },
    {
     "cell_type": "code",
     "collapsed": false,
     "input": [
      "def open_data(filename):\n",
      "    #Open up the csv file \n",
      "    csv_file_object = csv.reader(open(filename, 'rb')) \n",
      "    header = csv_file_object.next() #skip header\n",
      "                                    \n",
      "    data=[]                         \n",
      "    for row in csv_file_object:      \n",
      "        data.append(row)   \n",
      "                  \n",
      "    data = np.array(data) \n",
      "        \n",
      "    \"\"\"\n",
      "    target = data[::,0].astype(np.float) #first column, list of the numbers\n",
      "    features = [row[1::].astype(np.float) for row in data] #list of the pixel values corresponding to numbers in 'target'\n",
      "    \"\"\"    \n",
      "    \n",
      "    return data"
     ],
     "language": "python",
     "metadata": {},
     "outputs": [],
     "prompt_number": 3
    },
    {
     "cell_type": "code",
     "collapsed": false,
     "input": [
      "def count_prior_probability(target): #counts the number of each digit 0-9 for prior probability\n",
      "\n",
      "    count = {'0':0 ,'1':0,'2':0,'3':0,'4':0,'5':0,'6':0,'7':0,'8':0,'9':0} #to store results\n",
      "    \n",
      "    for x in target:           \n",
      "        count[str(x[0])] += 1            \n",
      "    \n",
      "    length = float(len(target))\n",
      "    \n",
      "    print count\n",
      "    print (\"0: %0.3f \\n1: %0.3f \\n2: %0.3f \\n3: %0.3f \\n4: %0.3f \\n5: %0.3f \\n6: %0.3f \\n7: %0.3f \\n8: %0.3f \\n9: %0.3f\" \n",
      "        % ((count['0']/length), (count['1']/length), (count['2']/length), (count['3']/length), (count['4']/length), (count['5']/length), (count['6']/length), (count['7']/length), (count['8']/length), (count['9']/length)))\n"
     ],
     "language": "python",
     "metadata": {},
     "outputs": [],
     "prompt_number": 4
    },
    {
     "cell_type": "code",
     "collapsed": false,
     "input": [
      "def show_histogram(target):\n",
      "    \n",
      "    target = target.astype(np.float);\n",
      "    \n",
      "    plt.hist(target, align='right', normed=True)\n",
      "    plt.title(\"Ugly Histogram\")\n",
      "    plt.xlabel(\"Number\")\n",
      "    plt.ylabel(\"Percentage\")\n",
      "    plt.show()"
     ],
     "language": "python",
     "metadata": {},
     "outputs": [],
     "prompt_number": 5
    },
    {
     "cell_type": "code",
     "collapsed": false,
     "input": [
      "def get_image(features,num): #prints the number as defined in row[num] of the csv file\n",
      "    \n",
      "    img = Image.new( 'L', (28,28)) # create an image\n",
      "    pixels = img.load() # create the pixel map\n",
      "    \n",
      "    row = features[num] \n",
      "    count = 0\n",
      "    for i in range(28):\n",
      "        for j in range(28):\n",
      "            pixels[j,i] = 255 - int(row[count])\n",
      "            count += 1    \n",
      "    \n",
      "    return img"
     ],
     "language": "python",
     "metadata": {},
     "outputs": [],
     "prompt_number": 6
    },
    {
     "cell_type": "code",
     "collapsed": true,
     "input": [
      "target,features = get_target_features('Data/train.csv')"
     ],
     "language": "python",
     "metadata": {},
     "outputs": [],
     "prompt_number": 31
    },
    {
     "cell_type": "code",
     "collapsed": false,
     "input": [
      "#positions representative of 0-9\n",
      "numbers = [1,0,16,7,3,8,21,6,10,11]\n",
      "images = []\n",
      "    \n",
      "for x in numbers:\n",
      "    images.append( get_image(features,x) )\n",
      "    "
     ],
     "language": "python",
     "metadata": {},
     "outputs": [],
     "prompt_number": 22
    },
    {
     "cell_type": "code",
     "collapsed": false,
     "input": [
      "#display 1 of each digit\n",
      "f, thumbs = plt.subplots(1,10)\n",
      "\n",
      "count = 0\n",
      "\n",
      "for eachImage in images:\n",
      "     \n",
      "    thumbs[count].imshow(eachImage).set_cmap('gist_yarg')\n",
      "        \n",
      "    #remove x and y axis ticks and labels\n",
      "    thumbs[count].xaxis.set_visible(False)\n",
      "    thumbs[count].yaxis.set_visible(False)\n",
      "    \n",
      "    count += 1\n",
      "   \n",
      "display()"
     ],
     "language": "python",
     "metadata": {},
     "outputs": [
      {
       "output_type": "display_data",
       "png": "[encoded data removed]",
       "text": [
        "<matplotlib.figure.Figure at 0x10cac1b10>"
       ]
      }
     ],
     "prompt_number": 26
    },
    {
     "cell_type": "code",
     "collapsed": false,
     "input": [
      "count_prior_probability(target)\n",
      "#Priors seem eavenly distributed, with 2,3,7 occuring somewhat more often"
     ],
     "language": "python",
     "metadata": {},
     "outputs": [
      {
       "output_type": "stream",
       "stream": "stdout",
       "text": [
        "{'1': 4684, '0': 4132, '3': 4351, '2': 4177, '5': 3795, '4': 4072, '7': 4401, '6': 4137, '9': 4188, '8': 4063}\n",
        "0: 0.098 \n",
        "1: 0.112 \n",
        "2: 0.099 \n",
        "3: 0.104 \n",
        "4: 0.097 \n",
        "5: 0.090 \n",
        "6: 0.099 \n",
        "7: 0.105 \n",
        "8: 0.097 \n",
        "9: 0.100\n"
       ]
      }
     ],
     "prompt_number": 17
    },
    {
     "cell_type": "code",
     "collapsed": false,
     "input": [
      "show_histogram(target)\n",
      "display()\n",
      "#reasonably level"
     ],
     "language": "python",
     "metadata": {},
     "outputs": [
      {
       "output_type": "display_data",
       "png": "[encoded data removed]",
       "text": [
        "<matplotlib.figure.Figure at 0x10c334a10>"
       ]
      }
     ],
     "prompt_number": 6
    },
    {
     "cell_type": "code",
     "collapsed": false,
     "input": [
      "#finding the best match with L2\n",
      "\n",
      "targetF = target.astype(np.float)\n",
      "featuresF = [each.astype(np.float) for each in features]\n",
      "    \n",
      "for number in numbers: # for each number in zero_nine\n",
      "            \n",
      "    mininum = float(\"inf\") \n",
      "    for i in range(len(targetF)):#loop through each row in target, find the L2 minimum\n",
      "        if i != number: #exclude self, which would have an L2 of 0\n",
      "            calculated_value = np.linalg.norm(featuresF[number]-featuresF[i]) #np.linalg.norm calculates L2 distance for a matrix\n",
      "            if calculated_value < mininum:\n",
      "                mininum = calculated_value\n",
      "                closest_match_pos = i\n",
      "                \n",
      "    #print out results        \n",
      "    string = str(targetF[number]) + \" (row[\" + str(number) + \"]) has the closest match with \" + str(targetF[closest_match_pos]) + \"(row[\" + str(closest_match_pos) + \"]) : \" + str(mininum)    \n",
      "    if targetF[number] != targetF[closest_match_pos]: # if the match is not correct, append an * as per instructions on homework   \n",
      "        string += ' *'            \n",
      "        print string\n",
      "    else: #if correct, print normally\n",
      "        print string\n",
      "\n",
      "#only 1 error with 3 looking like 5 for chosen examples"
     ],
     "language": "python",
     "metadata": {},
     "outputs": [
      {
       "output_type": "stream",
       "stream": "stdout",
       "text": [
        "0.0 (row[1]) has the closest match with 0.0(row[12950]) : 1046.59543282\n",
        "1.0 (row[0]) has the closest match with 1.0(row[29704]) : 489.679487012"
       ]
      },
      {
       "output_type": "stream",
       "stream": "stdout",
       "text": [
        "\n",
        "2.0 (row[16]) has the closest match with 2.0(row[9536]) : 1380.8772574"
       ]
      },
      {
       "output_type": "stream",
       "stream": "stdout",
       "text": [
        "\n",
        "3.0 (row[7]) has the closest match with 5.0(row[8981]) : 1832.66499939 *"
       ]
      },
      {
       "output_type": "stream",
       "stream": "stdout",
       "text": [
        "\n",
        "4.0 (row[3]) has the closest match with 4.0(row[14787]) : 1356.88098225"
       ]
      },
      {
       "output_type": "stream",
       "stream": "stdout",
       "text": [
        "\n",
        "5.0 (row[8]) has the closest match with 5.0(row[30073]) : 1066.36766643"
       ]
      },
      {
       "output_type": "stream",
       "stream": "stdout",
       "text": [
        "\n",
        "6.0 (row[21]) has the closest match with 6.0(row[16240]) : 1446.51132038"
       ]
      },
      {
       "output_type": "stream",
       "stream": "stdout",
       "text": [
        "\n",
        "7.0 (row[6]) has the closest match with 7.0(row[15275]) : 863.501013317"
       ]
      },
      {
       "output_type": "stream",
       "stream": "stdout",
       "text": [
        "\n",
        "8.0 (row[10]) has the closest match with 8.0(row[32586]) : 1593.777588"
       ]
      },
      {
       "output_type": "stream",
       "stream": "stdout",
       "text": [
        "\n",
        "9.0 (row[11]) has the closest match with 9.0(row[35742]) : 910.576740314"
       ]
      },
      {
       "output_type": "stream",
       "stream": "stdout",
       "text": [
        "\n"
       ]
      }
     ],
     "prompt_number": 30
    },
    {
     "cell_type": "code",
     "collapsed": false,
     "input": [
      "#shows 2 histograms together\n",
      "def show_2_histograms(info1,info2):\n",
      "    plt.hist(info1, color = 'red',align='mid',stacked=True, normed=True, histtype = 'step')\n",
      "    plt.hist(info2, color = 'blue',align='mid',stacked=True, normed=True,  histtype = 'step')\n",
      "    plt.title(\"Dual Histogram\")\n",
      "    plt.xlabel(\"Distance\")\n",
      "    plt.ylabel(\"Percentage\")\n",
      "    plt.show()   \n",
      "    display()"
     ],
     "language": "python",
     "metadata": {},
     "outputs": [],
     "prompt_number": 9
    },
    {
     "cell_type": "code",
     "collapsed": false,
     "input": [
      "#shows a roc curve\n",
      "def show_roc_curve(trueFalse,scores):\n",
      "    fpr, tpr, thresholds = roc_curve(trueFalse,scores,pos_label=None)\n",
      "    roc_auc = auc(fpr, tpr)\n",
      "    print \"Area under the ROC curve : %f\" % roc_auc\n",
      "    \n",
      "    # Plot ROC curve\n",
      "    #pl.clf()\n",
      "    pl.plot(fpr, tpr, label='ROC curve (area = %0.2f)' % roc_auc)\n",
      "    pl.plot([0, 1], [0, 1], 'k--')\n",
      "    pl.xlim([0.0, 1.0])\n",
      "    pl.ylim([0.0, 1.0])\n",
      "    pl.xlabel('False Positive Rate')\n",
      "    pl.ylabel('True Positive Rate')\n",
      "    pl.title('Receiver operating characteristic example')\n",
      "    pl.legend(loc=\"lower right\")\n",
      "    pl.show()\n",
      "    display()"
     ],
     "language": "python",
     "metadata": {},
     "outputs": [],
     "prompt_number": 39
    },
    {
     "cell_type": "code",
     "collapsed": false,
     "input": [
      "#create training and test sets for 0 and 1\n",
      "target_0   = []\n",
      "features_0 = []\n",
      "target_1   = []\n",
      "features_1 = []\n",
      "\n",
      "for x in range(len(target)):\n",
      "    \n",
      "    if int(target[x]) == 0:\n",
      "        target_0.append(target[x].astype(np.float))\n",
      "        features_0.append(features[x].astype(np.float))\n",
      "        \n",
      "    if int(target[x]) == 1:\n",
      "        target_1.append(target[x].astype(np.float))\n",
      "        features_1.append(features[x].astype(np.float))"
     ],
     "language": "python",
     "metadata": {},
     "outputs": [],
     "prompt_number": 11
    },
    {
     "cell_type": "code",
     "collapsed": false,
     "input": [
      "#sample size too large (8816 8816)\n",
      "#use a subset\n",
      "LENGTH = 500\n",
      "subT0 = np.array( target_0   [0:LENGTH] )\n",
      "subF0 = np.array( features_0 [0:LENGTH] )\n",
      "subT1 = np.array( target_1   [0:LENGTH] )\n",
      "subF1 = np.array( features_1 [0:LENGTH] )"
     ],
     "language": "python",
     "metadata": {},
     "outputs": [],
     "prompt_number": 12
    },
    {
     "cell_type": "code",
     "collapsed": false,
     "input": [
      "hist_actual = []\n",
      "hist_impostors = []\n",
      "\n",
      "for i in range(LENGTH-1):\n",
      "    for j in range(LENGTH-i-1):\n",
      "        actual_distance = np.linalg.norm(subF0[i] - subF0[j+i+1])\n",
      "        hist_actual.append(actual_distance)\n",
      "\n",
      "print len(hist_actual)\n"
     ],
     "language": "python",
     "metadata": {},
     "outputs": [
      {
       "output_type": "stream",
       "stream": "stdout",
       "text": [
        "124750\n"
       ]
      }
     ],
     "prompt_number": 19
    },
    {
     "cell_type": "code",
     "collapsed": false,
     "input": [
      "for i in range(LENGTH-1):\n",
      "    for j in range(LENGTH-i-1):\n",
      "        impostor_distance = np.linalg.norm(subF0[i] - subF1[j+i+1])\n",
      "        hist_impostors.append(impostor_distance)\n",
      "\n",
      "print len(hist_impostors)\n",
      "        "
     ],
     "language": "python",
     "metadata": {},
     "outputs": [
      {
       "output_type": "stream",
       "stream": "stdout",
       "text": [
        "124750\n"
       ]
      }
     ],
     "prompt_number": 20
    },
    {
     "cell_type": "code",
     "collapsed": false,
     "input": [
      "show_2_histograms(hist_actual, hist_impostors)\n",
      "#Closer than I'd have liked"
     ],
     "language": "python",
     "metadata": {},
     "outputs": [
      {
       "output_type": "display_data",
       "png": "[encoded data removed]",
       "text": [
        "<matplotlib.figure.Figure at 0x10755c650>"
       ]
      }
     ],
     "prompt_number": 23
    },
    {
     "cell_type": "code",
     "collapsed": true,
     "input": [
      "#data for roc curve\n",
      "rocTargets = [0]*500 + [1]*500\n",
      "rocValues  = hist_actual[0:500] + hist_impostors[0:500]"
     ],
     "language": "python",
     "metadata": {},
     "outputs": [],
     "prompt_number": 41
    },
    {
     "cell_type": "code",
     "collapsed": false,
     "input": [
      "show_roc_curve(rocTargets,rocValues )\n",
      "#99 percent"
     ],
     "language": "python",
     "metadata": {},
     "outputs": [
      {
       "output_type": "stream",
       "stream": "stdout",
       "text": [
        "Area under the ROC curve : 0.989068\n"
       ]
      },
      {
       "output_type": "display_data",
       "png": "[encoded data removed]",
       "text": [
        "<matplotlib.figure.Figure at 0x107711cd0>"
       ]
      }
     ],
     "prompt_number": 42
    },
    {
     "cell_type": "code",
     "collapsed": false,
     "input": [
      "#perform cross validation using smaller data set to choose N\n",
      "smallTarget,smallFeatures = get_target_features(\"Data/train_small.csv\")"
     ],
     "language": "python",
     "metadata": {},
     "outputs": [],
     "prompt_number": 7
    },
    {
     "cell_type": "code",
     "collapsed": false,
     "input": [
      "for i in range(30):\n",
      "    thisNeigh = neighbors.KNeighborsClassifier(n_neighbors=i+1)\n",
      "    thisNeigh.fit(smallFeatures, smallTarget) \n",
      "    cv = cross_validation.cross_val_score(thisNeigh, smallFeatures, smallTarget, cv = 3, n_jobs = 2)\n",
      "    print str(i) + \" : \" + str(cv)\n",
      "\n",
      "#choosing a N of 4"
     ],
     "language": "python",
     "metadata": {},
     "outputs": [
      {
       "output_type": "stream",
       "stream": "stdout",
       "text": [
        "0 : [ 0.60606061  0.63636364  0.5       ]\n"
       ]
      },
      {
       "output_type": "stream",
       "stream": "stdout",
       "text": [
        "1 : [ 0.51515152  0.57575758  0.53125   ]\n"
       ]
      },
      {
       "output_type": "stream",
       "stream": "stdout",
       "text": [
        "2 : [ 0.54545455  0.60606061  0.53125   ]\n"
       ]
      },
      {
       "output_type": "stream",
       "stream": "stdout",
       "text": [
        "3 : [ 0.51515152  0.66666667  0.5       ]\n"
       ]
      },
      {
       "output_type": "stream",
       "stream": "stdout",
       "text": [
        "4 : [ 0.51515152  0.66666667  0.46875   ]\n"
       ]
      },
      {
       "output_type": "stream",
       "stream": "stdout",
       "text": [
        "5 : [ 0.48484848  0.60606061  0.53125   ]\n"
       ]
      },
      {
       "output_type": "stream",
       "stream": "stdout",
       "text": [
        "6 : [ 0.48484848  0.57575758  0.46875   ]\n"
       ]
      },
      {
       "output_type": "stream",
       "stream": "stdout",
       "text": [
        "7 : [ 0.51515152  0.63636364  0.5625    ]\n"
       ]
      },
      {
       "output_type": "stream",
       "stream": "stdout",
       "text": [
        "8 : [ 0.48484848  0.57575758  0.53125   ]\n"
       ]
      },
      {
       "output_type": "stream",
       "stream": "stdout",
       "text": [
        "9 : [ 0.48484848  0.51515152  0.5       ]\n"
       ]
      },
      {
       "output_type": "stream",
       "stream": "stdout",
       "text": [
        "10 : [ 0.42424242  0.48484848  0.5       ]\n"
       ]
      },
      {
       "output_type": "stream",
       "stream": "stdout",
       "text": [
        "11 : [ 0.39393939  0.42424242  0.46875   ]\n"
       ]
      },
      {
       "output_type": "stream",
       "stream": "stdout",
       "text": [
        "12 : [ 0.36363636  0.48484848  0.46875   ]\n"
       ]
      },
      {
       "output_type": "stream",
       "stream": "stdout",
       "text": [
        "13 : [ 0.36363636  0.42424242  0.46875   ]\n"
       ]
      },
      {
       "output_type": "stream",
       "stream": "stdout",
       "text": [
        "14 : [ 0.33333333  0.39393939  0.4375    ]\n"
       ]
      },
      {
       "output_type": "stream",
       "stream": "stdout",
       "text": [
        "15 : [ 0.39393939  0.36363636  0.4375    ]\n"
       ]
      },
      {
       "output_type": "stream",
       "stream": "stdout",
       "text": [
        "16 : [ 0.39393939  0.36363636  0.40625   ]\n"
       ]
      },
      {
       "output_type": "stream",
       "stream": "stdout",
       "text": [
        "17 : [ 0.36363636  0.33333333  0.375     ]\n"
       ]
      },
      {
       "output_type": "stream",
       "stream": "stdout",
       "text": [
        "18 : [ 0.33333333  0.3030303   0.375     ]\n"
       ]
      },
      {
       "output_type": "stream",
       "stream": "stdout",
       "text": [
        "19 : [ 0.36363636  0.27272727  0.375     ]\n"
       ]
      },
      {
       "output_type": "stream",
       "stream": "stdout",
       "text": [
        "20 : [ 0.36363636  0.27272727  0.375     ]\n"
       ]
      },
      {
       "output_type": "stream",
       "stream": "stdout",
       "text": [
        "21 : [ 0.39393939  0.24242424  0.34375   ]\n"
       ]
      },
      {
       "output_type": "stream",
       "stream": "stdout",
       "text": [
        "22 : [ 0.39393939  0.24242424  0.375     ]\n"
       ]
      },
      {
       "output_type": "stream",
       "stream": "stdout",
       "text": [
        "23 : [ 0.33333333  0.21212121  0.40625   ]\n"
       ]
      },
      {
       "output_type": "stream",
       "stream": "stdout",
       "text": [
        "24 : [ 0.3030303   0.24242424  0.375     ]\n"
       ]
      },
      {
       "output_type": "stream",
       "stream": "stdout",
       "text": [
        "25 : [ 0.3030303   0.24242424  0.375     ]\n"
       ]
      },
      {
       "output_type": "stream",
       "stream": "stdout",
       "text": [
        "26 : [ 0.27272727  0.21212121  0.3125    ]\n"
       ]
      },
      {
       "output_type": "stream",
       "stream": "stdout",
       "text": [
        "27 : [ 0.33333333  0.24242424  0.3125    ]\n"
       ]
      },
      {
       "output_type": "stream",
       "stream": "stdout",
       "text": [
        "28 : [ 0.33333333  0.21212121  0.3125    ]\n"
       ]
      },
      {
       "output_type": "stream",
       "stream": "stdout",
       "text": [
        "29 : [ 0.33333333  0.18181818  0.3125    ]\n"
       ]
      }
     ],
     "prompt_number": 9
    },
    {
     "cell_type": "code",
     "collapsed": false,
     "input": [
      "#4 had the highest score, 3 or 2 would've worked as well\n",
      "neigh = neighbors.KNeighborsClassifier(n_neighbors=4)\n",
      "neigh.fit(smallFeatures, smallTarget) "
     ],
     "language": "python",
     "metadata": {},
     "outputs": [
      {
       "output_type": "pyout",
       "prompt_number": 10,
       "text": [
        "KNeighborsClassifier(algorithm='auto', leaf_size=30, n_neighbors=4, p=2,\n",
        "           warn_on_equidistant=True, weights='uniform')"
       ]
      }
     ],
     "prompt_number": 10
    },
    {
     "cell_type": "code",
     "collapsed": false,
     "input": [
      "#open test data\n",
      "data_for_test = open_data(\"Data/train.csv\")"
     ],
     "language": "python",
     "metadata": {},
     "outputs": [],
     "prompt_number": 32
    },
    {
     "cell_type": "code",
     "collapsed": false,
     "input": [
      "test_this = [row[1::] for row in data_for_test]     "
     ],
     "language": "python",
     "metadata": {},
     "outputs": [],
     "prompt_number": 36
    },
    {
     "cell_type": "code",
     "collapsed": false,
     "input": [
      "#get predictions\n",
      "predicted = neigh.predict(test_this)"
     ],
     "language": "python",
     "metadata": {},
     "outputs": [],
     "prompt_number": 37
    },
    {
     "cell_type": "code",
     "collapsed": false,
     "input": [
      "print confusion_matrix(target,predicted)\n",
      "#confusion matrix for small-trained classifier predicting trained\n",
      "#note lack of symmetry, Predicting 3 to be 5 is not the same as vice versa"
     ],
     "language": "python",
     "metadata": {},
     "outputs": [
      {
       "output_type": "stream",
       "stream": "stdout",
       "text": [
        "[[3790   44   17   38   20   12   77   38   20   76]\n",
        " [   0 4662    4    1    0    0    2    6    1    8]\n",
        " [ 428 1063 1772  132  164    2  293   82  133  108]\n",
        " [ 118  696  244 2806    5   20   21   63  225  153]\n",
        " [  29  313   82    4 2436    0   54   77    7 1070]\n",
        " [ 622  849   71  750   82  334  119   96  143  729]\n",
        " [ 279  685  102   13  167   62 2803   10    3   13]\n",
        " [  41  417   40   10  117    0    1 2581    6 1188]\n",
        " [ 244  847  375  415   92   89   39   39 1211  712]\n",
        " [  49  126   81   44  451    1    5  353    7 3071]]\n"
       ]
      }
     ],
     "prompt_number": 38
    },
    {
     "cell_type": "code",
     "collapsed": false,
     "input": [
      "#confusion matrix from regular trained classifier on same dataset\n",
      "#copy pasted from the previous sent .txt file\n",
      "'''\n",
      "      0    1    2    3    4    5    6    7    8    9\n",
      "      \n",
      "0  [4122    0    1    0    0    3    6    0    0    0]\n",
      "1  [   0 4672    4    0    1    0    0    4    1    2]\n",
      "2  [ *17  *20 4107    3    1    1    1  *23    2    2]\n",
      "3  [   4    5  *20 4265    0  *25    0  *11  *11  *10]\n",
      "4  [   3  *29    0    0 3997    0    5    1    0  *37]\n",
      "5  [   6    2    2   29    2 3721   23    0    1    9]\n",
      "6  [ *14    5    0    0    4   10 4104    0    0    0]\n",
      "7  [   1  *35  *11    0    3    0    0 4328    0  *23]\n",
      "8  [ *15  *28    7  *31  *11  *23    7    5 3913  *23]\n",
      "9  [   9    6    1  *19  *28    5    2  *27    2 4089]\n",
      "\n",
      " -> = wrongly classified as\n",
      " \n",
      " 2 -> 0\n",
      " 6 -> 0\n",
      " 8 -> 0\n",
      " 4 -> 1\n",
      " 7 -> 1\n",
      " 8 -> 1\n",
      " 3 -> 2\n",
      " 7 -> 2  2 -> 7\n",
      " 8 -> 3  3 -> 8\n",
      " 9 -> 3  3 -> 9\n",
      " 8 -> 4\n",
      " 9 -> 4  4 -> 9\n",
      " 8 -> 5\n",
      " 9 -> 7  7 -> 9\n",
      " \n",
      " 3 -> 5\n",
      " 3 -> 7\n",
      " 8 -> 9ti\n",
      "'''"
     ],
     "language": "python",
     "metadata": {},
     "outputs": []
    },
    {
     "cell_type": "code",
     "collapsed": false,
     "input": [
      "#save results to csv for submission\n",
      "savetxt('Data/submission_neighbors.csv', predicted, delimiter=',', fmt='%d')\n",
      "\n",
      "#below is a subset of submitted answers"
     ],
     "language": "python",
     "metadata": {},
     "outputs": [
      {
       "output_type": "stream",
       "stream": "stdout",
       "text": [
        "['2' '0' '9' '9' '3' '7' '0' '3' '0' '3' '5' '7' '4' '0' '4' '3' '3' '1'\n",
        " '9' '0' '9' '1' '1' '5' '7' '4' '2' '7' '4' '7' '7' '5' '4' '2' '6' '2'\n",
        " '5' '5' '1' '6' '7' '7' '4' '9' '5' '7' '8' '2' '6' '7']\n"
       ]
      }
     ],
     "prompt_number": 48
    },
    {
     "cell_type": "code",
     "collapsed": false,
     "input": [
      "'''\n",
      "http://www.kaggle.com/c/digit-recognizer/leaderboard\n",
      "    \n",
      "Submission under my account:\n",
      "David Jiang\t 0.96857    -----    Thu, 31 Jan 2013 01:41:51\n",
      "        Placement: 311\n",
      "'''"
     ],
     "language": "python",
     "metadata": {},
     "outputs": []
    }
   ],
   "metadata": {}
  }
 ]
}